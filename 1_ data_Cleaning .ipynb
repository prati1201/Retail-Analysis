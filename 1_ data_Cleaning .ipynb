{
 "cells": [
  {
   "cell_type": "code",
   "execution_count": 1,
   "id": "20110efa",
   "metadata": {},
   "outputs": [],
   "source": [
    "import pandas as pd\n",
    "import numpy as np\n",
    "import matplotlib.pyplot as plt\n",
    "import seaborn as sns\n",
    "import re"
   ]
  },
  {
   "cell_type": "markdown",
   "id": "969d219b",
   "metadata": {},
   "source": [
    "# DATA HANDLING : QUANTIUM STORE ANALYSIS"
   ]
  },
  {
   "cell_type": "markdown",
   "id": "3d1c2e96",
   "metadata": {},
   "source": [
    "## STATEMENT OF THE PROBLEM "
   ]
  },
  {
   "cell_type": "markdown",
   "id": "7aaa16ca",
   "metadata": {},
   "source": [
    "You are part of Quantium’s retail analytics team and have been approached by your client, the Category Manager for Chips, who wants to better understand the types of customers who purchase Chips and their purchasing behaviour within the region.\n",
    "\n",
    "The insights from your analysis will feed into the supermarket’s strategic plan for the chip category in the next half year."
   ]
  },
  {
   "cell_type": "markdown",
   "id": "682bc047",
   "metadata": {},
   "source": [
    "## OBJECTIVES "
   ]
  },
  {
   "cell_type": "markdown",
   "id": "4cfa3feb",
   "metadata": {},
   "source": [
    "+ present a strategic recommendation that is supported by data which can then be useed for the upcoming category review\n",
    "+ analyse the data to understand the current purchasing trends and behaviours. \n",
    "+ customer segments and their chip purchasing behaviour."
   ]
  },
  {
   "cell_type": "markdown",
   "id": "c2e3cf40",
   "metadata": {},
   "source": [
    "#### In this file we are going to :\n",
    "\n",
    "+ Clean the data\n",
    "+ Analyse the data\n",
    "+ Look for outliers\n",
    "+ Data imputation ( if necessary )\n",
    "+ merging the data "
   ]
  },
  {
   "cell_type": "markdown",
   "id": "12cef37a",
   "metadata": {},
   "source": [
    "## DATA HANDLING"
   ]
  },
  {
   "cell_type": "markdown",
   "id": "298c05cc",
   "metadata": {},
   "source": [
    "### FILE 1 : TRANSACTION DATA"
   ]
  },
  {
   "cell_type": "code",
   "execution_count": 2,
   "id": "03ec29cf",
   "metadata": {},
   "outputs": [
    {
     "data": {
      "text/html": [
       "<div>\n",
       "<style scoped>\n",
       "    .dataframe tbody tr th:only-of-type {\n",
       "        vertical-align: middle;\n",
       "    }\n",
       "\n",
       "    .dataframe tbody tr th {\n",
       "        vertical-align: top;\n",
       "    }\n",
       "\n",
       "    .dataframe thead th {\n",
       "        text-align: right;\n",
       "    }\n",
       "</style>\n",
       "<table border=\"1\" class=\"dataframe\">\n",
       "  <thead>\n",
       "    <tr style=\"text-align: right;\">\n",
       "      <th></th>\n",
       "      <th>DATE</th>\n",
       "      <th>STORE_NBR</th>\n",
       "      <th>LYLTY_CARD_NBR</th>\n",
       "      <th>TXN_ID</th>\n",
       "      <th>PROD_NBR</th>\n",
       "      <th>PROD_NAME</th>\n",
       "      <th>PROD_QTY</th>\n",
       "      <th>TOT_SALES</th>\n",
       "    </tr>\n",
       "  </thead>\n",
       "  <tbody>\n",
       "    <tr>\n",
       "      <th>0</th>\n",
       "      <td>43390</td>\n",
       "      <td>1</td>\n",
       "      <td>1000</td>\n",
       "      <td>1</td>\n",
       "      <td>5</td>\n",
       "      <td>Natural Chip        Compny SeaSalt175g</td>\n",
       "      <td>2</td>\n",
       "      <td>6.0</td>\n",
       "    </tr>\n",
       "    <tr>\n",
       "      <th>1</th>\n",
       "      <td>43599</td>\n",
       "      <td>1</td>\n",
       "      <td>1307</td>\n",
       "      <td>348</td>\n",
       "      <td>66</td>\n",
       "      <td>CCs Nacho Cheese    175g</td>\n",
       "      <td>3</td>\n",
       "      <td>6.3</td>\n",
       "    </tr>\n",
       "    <tr>\n",
       "      <th>2</th>\n",
       "      <td>43605</td>\n",
       "      <td>1</td>\n",
       "      <td>1343</td>\n",
       "      <td>383</td>\n",
       "      <td>61</td>\n",
       "      <td>Smiths Crinkle Cut  Chips Chicken 170g</td>\n",
       "      <td>2</td>\n",
       "      <td>2.9</td>\n",
       "    </tr>\n",
       "    <tr>\n",
       "      <th>3</th>\n",
       "      <td>43329</td>\n",
       "      <td>2</td>\n",
       "      <td>2373</td>\n",
       "      <td>974</td>\n",
       "      <td>69</td>\n",
       "      <td>Smiths Chip Thinly  S/Cream&amp;Onion 175g</td>\n",
       "      <td>5</td>\n",
       "      <td>15.0</td>\n",
       "    </tr>\n",
       "    <tr>\n",
       "      <th>4</th>\n",
       "      <td>43330</td>\n",
       "      <td>2</td>\n",
       "      <td>2426</td>\n",
       "      <td>1038</td>\n",
       "      <td>108</td>\n",
       "      <td>Kettle Tortilla ChpsHny&amp;Jlpno Chili 150g</td>\n",
       "      <td>3</td>\n",
       "      <td>13.8</td>\n",
       "    </tr>\n",
       "  </tbody>\n",
       "</table>\n",
       "</div>"
      ],
      "text/plain": [
       "    DATE  STORE_NBR  LYLTY_CARD_NBR  TXN_ID  PROD_NBR  \\\n",
       "0  43390          1            1000       1         5   \n",
       "1  43599          1            1307     348        66   \n",
       "2  43605          1            1343     383        61   \n",
       "3  43329          2            2373     974        69   \n",
       "4  43330          2            2426    1038       108   \n",
       "\n",
       "                                  PROD_NAME  PROD_QTY  TOT_SALES  \n",
       "0    Natural Chip        Compny SeaSalt175g         2        6.0  \n",
       "1                  CCs Nacho Cheese    175g         3        6.3  \n",
       "2    Smiths Crinkle Cut  Chips Chicken 170g         2        2.9  \n",
       "3    Smiths Chip Thinly  S/Cream&Onion 175g         5       15.0  \n",
       "4  Kettle Tortilla ChpsHny&Jlpno Chili 150g         3       13.8  "
      ]
     },
     "execution_count": 2,
     "metadata": {},
     "output_type": "execute_result"
    }
   ],
   "source": [
    "td = pd.read_excel(\"QVI_transaction_data.xlsx\")\n",
    "td1 = td.copy()\n",
    "td.head()"
   ]
  },
  {
   "cell_type": "code",
   "execution_count": 3,
   "id": "f207cf47",
   "metadata": {},
   "outputs": [
    {
     "name": "stdout",
     "output_type": "stream",
     "text": [
      "<class 'pandas.core.frame.DataFrame'>\n",
      "RangeIndex: 264836 entries, 0 to 264835\n",
      "Data columns (total 8 columns):\n",
      " #   Column          Non-Null Count   Dtype  \n",
      "---  ------          --------------   -----  \n",
      " 0   DATE            264836 non-null  int64  \n",
      " 1   STORE_NBR       264836 non-null  int64  \n",
      " 2   LYLTY_CARD_NBR  264836 non-null  int64  \n",
      " 3   TXN_ID          264836 non-null  int64  \n",
      " 4   PROD_NBR        264836 non-null  int64  \n",
      " 5   PROD_NAME       264836 non-null  object \n",
      " 6   PROD_QTY        264836 non-null  int64  \n",
      " 7   TOT_SALES       264836 non-null  float64\n",
      "dtypes: float64(1), int64(6), object(1)\n",
      "memory usage: 16.2+ MB\n"
     ]
    }
   ],
   "source": [
    "td.info()"
   ]
  },
  {
   "cell_type": "markdown",
   "id": "2ee3bd5b",
   "metadata": {},
   "source": [
    "+ The above file contains the record of each and every transaction happened accross all the stores in quantium . \n",
    "+ All the transactions are related to chips and related products . \n",
    "\n",
    "+ There are 264836 entries or records indicating that 264836 transactions have been recorded."
   ]
  },
  {
   "cell_type": "markdown",
   "id": "50e90ac8",
   "metadata": {},
   "source": [
    "#### Renaming the columns "
   ]
  },
  {
   "cell_type": "code",
   "execution_count": 4,
   "id": "4318c6e3",
   "metadata": {},
   "outputs": [
    {
     "data": {
      "text/html": [
       "<div>\n",
       "<style scoped>\n",
       "    .dataframe tbody tr th:only-of-type {\n",
       "        vertical-align: middle;\n",
       "    }\n",
       "\n",
       "    .dataframe tbody tr th {\n",
       "        vertical-align: top;\n",
       "    }\n",
       "\n",
       "    .dataframe thead th {\n",
       "        text-align: right;\n",
       "    }\n",
       "</style>\n",
       "<table border=\"1\" class=\"dataframe\">\n",
       "  <thead>\n",
       "    <tr style=\"text-align: right;\">\n",
       "      <th></th>\n",
       "      <th>Date</th>\n",
       "      <th>Store_no</th>\n",
       "      <th>Loyalty_card_no</th>\n",
       "      <th>Tax_id</th>\n",
       "      <th>Prod_no</th>\n",
       "      <th>Prod_fullname</th>\n",
       "      <th>Prod_qty</th>\n",
       "      <th>Total_sales</th>\n",
       "    </tr>\n",
       "  </thead>\n",
       "  <tbody>\n",
       "    <tr>\n",
       "      <th>0</th>\n",
       "      <td>43390</td>\n",
       "      <td>1</td>\n",
       "      <td>1000</td>\n",
       "      <td>1</td>\n",
       "      <td>5</td>\n",
       "      <td>Natural Chip        Compny SeaSalt175g</td>\n",
       "      <td>2</td>\n",
       "      <td>6.0</td>\n",
       "    </tr>\n",
       "    <tr>\n",
       "      <th>1</th>\n",
       "      <td>43599</td>\n",
       "      <td>1</td>\n",
       "      <td>1307</td>\n",
       "      <td>348</td>\n",
       "      <td>66</td>\n",
       "      <td>CCs Nacho Cheese    175g</td>\n",
       "      <td>3</td>\n",
       "      <td>6.3</td>\n",
       "    </tr>\n",
       "    <tr>\n",
       "      <th>2</th>\n",
       "      <td>43605</td>\n",
       "      <td>1</td>\n",
       "      <td>1343</td>\n",
       "      <td>383</td>\n",
       "      <td>61</td>\n",
       "      <td>Smiths Crinkle Cut  Chips Chicken 170g</td>\n",
       "      <td>2</td>\n",
       "      <td>2.9</td>\n",
       "    </tr>\n",
       "  </tbody>\n",
       "</table>\n",
       "</div>"
      ],
      "text/plain": [
       "    Date  Store_no  Loyalty_card_no  Tax_id  Prod_no  \\\n",
       "0  43390         1             1000       1        5   \n",
       "1  43599         1             1307     348       66   \n",
       "2  43605         1             1343     383       61   \n",
       "\n",
       "                            Prod_fullname  Prod_qty  Total_sales  \n",
       "0  Natural Chip        Compny SeaSalt175g         2          6.0  \n",
       "1                CCs Nacho Cheese    175g         3          6.3  \n",
       "2  Smiths Crinkle Cut  Chips Chicken 170g         2          2.9  "
      ]
     },
     "execution_count": 4,
     "metadata": {},
     "output_type": "execute_result"
    }
   ],
   "source": [
    "col_name = {'DATE':'Date', 'STORE_NBR': 'Store_no','LYLTY_CARD_NBR': 'Loyalty_card_no',\n",
    "            'TXN_ID':'Tax_id', 'PROD_NBR': 'Prod_no' , 'PROD_NAME':'Prod_fullname',\n",
    "            'PROD_QTY':'Prod_qty', 'TOT_SALES': 'Total_sales'}\n",
    "\n",
    "td = td.rename(columns = col_name)\n",
    "\n",
    "td.head(3)"
   ]
  },
  {
   "cell_type": "markdown",
   "id": "c9f00088",
   "metadata": {},
   "source": [
    "#### Changing the datatype\n"
   ]
  },
  {
   "cell_type": "code",
   "execution_count": 5,
   "id": "4a9127ad",
   "metadata": {},
   "outputs": [],
   "source": [
    "td[\"Date\"] =pd.to_datetime( td[\"Date\"] ,unit = \"D\", origin = '1900-01-01')"
   ]
  },
  {
   "cell_type": "code",
   "execution_count": 6,
   "id": "f22b6353",
   "metadata": {},
   "outputs": [
    {
     "name": "stdout",
     "output_type": "stream",
     "text": [
      "<class 'pandas.core.frame.DataFrame'>\n",
      "RangeIndex: 264836 entries, 0 to 264835\n",
      "Data columns (total 8 columns):\n",
      " #   Column           Non-Null Count   Dtype         \n",
      "---  ------           --------------   -----         \n",
      " 0   Date             264836 non-null  datetime64[ns]\n",
      " 1   Store_no         264836 non-null  int64         \n",
      " 2   Loyalty_card_no  264836 non-null  int64         \n",
      " 3   Tax_id           264836 non-null  int64         \n",
      " 4   Prod_no          264836 non-null  int64         \n",
      " 5   Prod_fullname    264836 non-null  object        \n",
      " 6   Prod_qty         264836 non-null  int64         \n",
      " 7   Total_sales      264836 non-null  float64       \n",
      "dtypes: datetime64[ns](1), float64(1), int64(5), object(1)\n",
      "memory usage: 16.2+ MB\n"
     ]
    }
   ],
   "source": [
    "td.info()"
   ]
  },
  {
   "cell_type": "markdown",
   "id": "c7788030",
   "metadata": {},
   "source": [
    "From this dataset we can identify that there are so many unique products to actually categorise and derive results .However, the products are asscociated with particular brand names. Thus, we can categories the Products into their brand names. "
   ]
  },
  {
   "cell_type": "markdown",
   "id": "59da7424",
   "metadata": {},
   "source": [
    "#### Creating a Brand Name column and imputing it with brand names associated with the products"
   ]
  },
  {
   "cell_type": "code",
   "execution_count": 7,
   "id": "f53c6994",
   "metadata": {},
   "outputs": [],
   "source": [
    "brand_names = [\n",
    "    \"Natural Chip Company\", \"CCs\", \"Smith's\", \"Kettle\", \"Old El Paso\",\n",
    "    \"Grain Waves\", \"Doritos\", \"Twisties\", \"WW (Woolworths)\", \"Cheezels\",\n",
    "    \"Infuzions\", \"Red Rock Deli\", \"Pringles\", \"Thins\", \"Burger Rings\",\n",
    "    \"French Fries\", \"Cobs\", \"Tyrrells\", \"Sunbites\", \"Cheetos\", \"Tostitos\"\n",
    "]\n",
    "# Defining a dictionary to map variations to the exact brand names\n",
    "brand_variations = {\n",
    "    \"Natural Chip Company\": [\"Natural Chip Cmpny\",\"NCC\"\n",
    "                             \"Natural Chip Co\", \"Natural ChipCo\", \"Natural Chip\" ],\n",
    "    \"CCs\":[\"CC\",\"CC's\",\"CCs\"], \"Kettle\":[\"Kettle\",\"Kettles\",\"Kettle's\", \"Kettle \"], \"Old El Paso\": [\"Old El Paso\",\"OldElPaso\"],\n",
    "    \"Doritos\":[\"Doritos\",\"Dorito's\",\"Dorito\"], \"Twisties\":[\"Twisties\",\"Twistie's\",\"Twistie\"],\n",
    "    \"Pringles\":[ \"Pringles\", \"Pringle\", \"Pringle's\"],\"Cheezels\":[\"Cheezels\",\"Cheezel\",\"Cheezel's\"],\n",
    "    \"Thins\":[\"Thins\",\"Thin's\",\"Thin\"],\"Burger Rings\":[\"Burger Rings\",\"BurgerRings\",\"BurgerRing\",\"Burger Ring\"],\n",
    "    \"Cobs\":[\"Cobs\",\"Cob\",\"Cob's\"],\"Cheetos\":[\"Cheetos\",\"Cheeto\",\"Cheeto's\"],\n",
    "    \"Tostitos\":[\"Tostitos\",\"Tostito\",\"Tostito's\"], \"Tyrrells\":[\"Tyrrells\",\"Tyrrell's\",\"Tyrrell\"],\n",
    "    \"Sunbites\": ['Sunbites','Sunbites','Snbts'], \n",
    "    \"Infuzions\": [\"Infzns\", \"Infuzion\", \"Infusions\"],\n",
    "    \"Smiths\":[\"Smith's\",\"Smith\",\"Smiths\"],\n",
    "    \"Red Rock Deli\": ['Red Rock Deli',\"RRD\"],\n",
    "    \"Grain Waves\":[\"Grnwves\", \"Grain Waves\",\"Grainwaves\",\"Grain Waves\"],\n",
    "    \"WW (Woolworths)\":[\"WW\",\"Woolworths\"]\n",
    "}\n",
    "\n",
    "# Create a new column initialized with \"Others\"\n",
    "td['Brand'] = 'Others'\n",
    "\n",
    "# Iterate over the brand variations dictionary\n",
    "for brand_name, variations in brand_variations.items():\n",
    "    # If variations are provided, check each variation\n",
    "    if variations:\n",
    "        for variation in variations:\n",
    "            # Update 'brand' column if the variation is found in 'Prod_fullname'\n",
    "            td.loc[td['Prod_fullname'].str.contains(variation, case=False), 'Brand'] = brand_name\n",
    "    # If no variations are provided, directly update 'brand' column with brand name\n",
    "    else:\n",
    "        td.loc[td['Prod_fullname'].str.contains(brand_name, case=False), 'Brand'] = brand_name"
   ]
  },
  {
   "cell_type": "code",
   "execution_count": 8,
   "id": "d0d07637",
   "metadata": {},
   "outputs": [
    {
     "data": {
      "text/html": [
       "<div>\n",
       "<style scoped>\n",
       "    .dataframe tbody tr th:only-of-type {\n",
       "        vertical-align: middle;\n",
       "    }\n",
       "\n",
       "    .dataframe tbody tr th {\n",
       "        vertical-align: top;\n",
       "    }\n",
       "\n",
       "    .dataframe thead th {\n",
       "        text-align: right;\n",
       "    }\n",
       "</style>\n",
       "<table border=\"1\" class=\"dataframe\">\n",
       "  <thead>\n",
       "    <tr style=\"text-align: right;\">\n",
       "      <th></th>\n",
       "      <th>Date</th>\n",
       "      <th>Store_no</th>\n",
       "      <th>Loyalty_card_no</th>\n",
       "      <th>Tax_id</th>\n",
       "      <th>Prod_no</th>\n",
       "      <th>Prod_fullname</th>\n",
       "      <th>Prod_qty</th>\n",
       "      <th>Total_sales</th>\n",
       "      <th>Brand</th>\n",
       "    </tr>\n",
       "  </thead>\n",
       "  <tbody>\n",
       "    <tr>\n",
       "      <th>0</th>\n",
       "      <td>2018-10-19</td>\n",
       "      <td>1</td>\n",
       "      <td>1000</td>\n",
       "      <td>1</td>\n",
       "      <td>5</td>\n",
       "      <td>Natural Chip        Compny SeaSalt175g</td>\n",
       "      <td>2</td>\n",
       "      <td>6.0</td>\n",
       "      <td>Natural Chip Company</td>\n",
       "    </tr>\n",
       "    <tr>\n",
       "      <th>1</th>\n",
       "      <td>2019-05-16</td>\n",
       "      <td>1</td>\n",
       "      <td>1307</td>\n",
       "      <td>348</td>\n",
       "      <td>66</td>\n",
       "      <td>CCs Nacho Cheese    175g</td>\n",
       "      <td>3</td>\n",
       "      <td>6.3</td>\n",
       "      <td>CCs</td>\n",
       "    </tr>\n",
       "    <tr>\n",
       "      <th>2</th>\n",
       "      <td>2019-05-22</td>\n",
       "      <td>1</td>\n",
       "      <td>1343</td>\n",
       "      <td>383</td>\n",
       "      <td>61</td>\n",
       "      <td>Smiths Crinkle Cut  Chips Chicken 170g</td>\n",
       "      <td>2</td>\n",
       "      <td>2.9</td>\n",
       "      <td>Smiths</td>\n",
       "    </tr>\n",
       "  </tbody>\n",
       "</table>\n",
       "</div>"
      ],
      "text/plain": [
       "        Date  Store_no  Loyalty_card_no  Tax_id  Prod_no  \\\n",
       "0 2018-10-19         1             1000       1        5   \n",
       "1 2019-05-16         1             1307     348       66   \n",
       "2 2019-05-22         1             1343     383       61   \n",
       "\n",
       "                            Prod_fullname  Prod_qty  Total_sales  \\\n",
       "0  Natural Chip        Compny SeaSalt175g         2          6.0   \n",
       "1                CCs Nacho Cheese    175g         3          6.3   \n",
       "2  Smiths Crinkle Cut  Chips Chicken 170g         2          2.9   \n",
       "\n",
       "                  Brand  \n",
       "0  Natural Chip Company  \n",
       "1                   CCs  \n",
       "2                Smiths  "
      ]
     },
     "execution_count": 8,
     "metadata": {},
     "output_type": "execute_result"
    }
   ],
   "source": [
    "td.head(3)"
   ]
  },
  {
   "cell_type": "code",
   "execution_count": 9,
   "id": "777cb237",
   "metadata": {},
   "outputs": [
    {
     "name": "stdout",
     "output_type": "stream",
     "text": [
      "<class 'pandas.core.frame.DataFrame'>\n",
      "RangeIndex: 264836 entries, 0 to 264835\n",
      "Data columns (total 9 columns):\n",
      " #   Column           Non-Null Count   Dtype         \n",
      "---  ------           --------------   -----         \n",
      " 0   Date             264836 non-null  datetime64[ns]\n",
      " 1   Store_no         264836 non-null  int64         \n",
      " 2   Loyalty_card_no  264836 non-null  int64         \n",
      " 3   Tax_id           264836 non-null  int64         \n",
      " 4   Prod_no          264836 non-null  int64         \n",
      " 5   Prod_fullname    264836 non-null  object        \n",
      " 6   Prod_qty         264836 non-null  int64         \n",
      " 7   Total_sales      264836 non-null  float64       \n",
      " 8   Brand            264836 non-null  object        \n",
      "dtypes: datetime64[ns](1), float64(1), int64(5), object(2)\n",
      "memory usage: 18.2+ MB\n"
     ]
    }
   ],
   "source": [
    "td.info()"
   ]
  },
  {
   "cell_type": "markdown",
   "id": "c35bfbac",
   "metadata": {},
   "source": [
    "Now, we have successfully imputed the Brand names with no null values ."
   ]
  },
  {
   "cell_type": "markdown",
   "id": "927e5738",
   "metadata": {},
   "source": [
    "#### Outliers "
   ]
  },
  {
   "cell_type": "code",
   "execution_count": 10,
   "id": "75f3ba60",
   "metadata": {},
   "outputs": [
    {
     "data": {
      "image/png": "[encoded data removed]",
      "text/plain": [
       "<Figure size 300x300 with 1 Axes>"
      ]
     },
     "metadata": {},
     "output_type": "display_data"
    },
    {
     "data": {
      "image/png": "[encoded data removed]",
      "text/plain": [
       "<Figure size 300x300 with 1 Axes>"
      ]
     },
     "metadata": {},
     "output_type": "display_data"
    }
   ],
   "source": [
    "numeric_data = td[[\"Prod_qty\",\"Total_sales\"]]\n",
    "for column in numeric_data.columns:\n",
    "    plt.figure(figsize=(3,3))\n",
    "    sns.boxplot(y=numeric_data[column])\n",
    "    plt.title(column + ' Box Plot')\n",
    "    plt.xlabel(column)\n",
    "    plt.ylabel('Values')\n",
    "    plt.grid(True)\n",
    "    plt.show()"
   ]
  },
  {
   "cell_type": "markdown",
   "id": "22ad5434",
   "metadata": {},
   "source": [
    "### FILE 2: PURCHASE BEHAVIOUR DATA"
   ]
  },
  {
   "cell_type": "code",
   "execution_count": 11,
   "id": "061659f2",
   "metadata": {},
   "outputs": [
    {
     "data": {
      "text/html": [
       "<div>\n",
       "<style scoped>\n",
       "    .dataframe tbody tr th:only-of-type {\n",
       "        vertical-align: middle;\n",
       "    }\n",
       "\n",
       "    .dataframe tbody tr th {\n",
       "        vertical-align: top;\n",
       "    }\n",
       "\n",
       "    .dataframe thead th {\n",
       "        text-align: right;\n",
       "    }\n",
       "</style>\n",
       "<table border=\"1\" class=\"dataframe\">\n",
       "  <thead>\n",
       "    <tr style=\"text-align: right;\">\n",
       "      <th></th>\n",
       "      <th>LYLTY_CARD_NBR</th>\n",
       "      <th>LIFESTAGE</th>\n",
       "      <th>PREMIUM_CUSTOMER</th>\n",
       "    </tr>\n",
       "  </thead>\n",
       "  <tbody>\n",
       "    <tr>\n",
       "      <th>0</th>\n",
       "      <td>1000</td>\n",
       "      <td>YOUNG SINGLES/COUPLES</td>\n",
       "      <td>Premium</td>\n",
       "    </tr>\n",
       "    <tr>\n",
       "      <th>1</th>\n",
       "      <td>1002</td>\n",
       "      <td>YOUNG SINGLES/COUPLES</td>\n",
       "      <td>Mainstream</td>\n",
       "    </tr>\n",
       "    <tr>\n",
       "      <th>2</th>\n",
       "      <td>1003</td>\n",
       "      <td>YOUNG FAMILIES</td>\n",
       "      <td>Budget</td>\n",
       "    </tr>\n",
       "    <tr>\n",
       "      <th>3</th>\n",
       "      <td>1004</td>\n",
       "      <td>OLDER SINGLES/COUPLES</td>\n",
       "      <td>Mainstream</td>\n",
       "    </tr>\n",
       "    <tr>\n",
       "      <th>4</th>\n",
       "      <td>1005</td>\n",
       "      <td>MIDAGE SINGLES/COUPLES</td>\n",
       "      <td>Mainstream</td>\n",
       "    </tr>\n",
       "  </tbody>\n",
       "</table>\n",
       "</div>"
      ],
      "text/plain": [
       "   LYLTY_CARD_NBR               LIFESTAGE PREMIUM_CUSTOMER\n",
       "0            1000   YOUNG SINGLES/COUPLES          Premium\n",
       "1            1002   YOUNG SINGLES/COUPLES       Mainstream\n",
       "2            1003          YOUNG FAMILIES           Budget\n",
       "3            1004   OLDER SINGLES/COUPLES       Mainstream\n",
       "4            1005  MIDAGE SINGLES/COUPLES       Mainstream"
      ]
     },
     "execution_count": 11,
     "metadata": {},
     "output_type": "execute_result"
    }
   ],
   "source": [
    "pb = pd.read_csv(\"QVI_purchase_behaviour.csv\")\n",
    "pb1 = pb.copy()\n",
    "pb.head()"
   ]
  },
  {
   "cell_type": "code",
   "execution_count": 12,
   "id": "abc31f1f",
   "metadata": {},
   "outputs": [
    {
     "name": "stdout",
     "output_type": "stream",
     "text": [
      "<class 'pandas.core.frame.DataFrame'>\n",
      "RangeIndex: 72637 entries, 0 to 72636\n",
      "Data columns (total 3 columns):\n",
      " #   Column            Non-Null Count  Dtype \n",
      "---  ------            --------------  ----- \n",
      " 0   LYLTY_CARD_NBR    72637 non-null  int64 \n",
      " 1   LIFESTAGE         72637 non-null  object\n",
      " 2   PREMIUM_CUSTOMER  72637 non-null  object\n",
      "dtypes: int64(1), object(2)\n",
      "memory usage: 1.7+ MB\n"
     ]
    }
   ],
   "source": [
    "pb.info()"
   ]
  },
  {
   "cell_type": "markdown",
   "id": "2afa9248",
   "metadata": {},
   "source": [
    "#### Renaming the columns"
   ]
  },
  {
   "cell_type": "code",
   "execution_count": 13,
   "id": "42f85e3e",
   "metadata": {},
   "outputs": [
    {
     "data": {
      "text/html": [
       "<div>\n",
       "<style scoped>\n",
       "    .dataframe tbody tr th:only-of-type {\n",
       "        vertical-align: middle;\n",
       "    }\n",
       "\n",
       "    .dataframe tbody tr th {\n",
       "        vertical-align: top;\n",
       "    }\n",
       "\n",
       "    .dataframe thead th {\n",
       "        text-align: right;\n",
       "    }\n",
       "</style>\n",
       "<table border=\"1\" class=\"dataframe\">\n",
       "  <thead>\n",
       "    <tr style=\"text-align: right;\">\n",
       "      <th></th>\n",
       "      <th>Loyalty_card_no</th>\n",
       "      <th>Lifestage</th>\n",
       "      <th>Affluence</th>\n",
       "    </tr>\n",
       "  </thead>\n",
       "  <tbody>\n",
       "    <tr>\n",
       "      <th>0</th>\n",
       "      <td>1000</td>\n",
       "      <td>YOUNG SINGLES/COUPLES</td>\n",
       "      <td>Premium</td>\n",
       "    </tr>\n",
       "    <tr>\n",
       "      <th>1</th>\n",
       "      <td>1002</td>\n",
       "      <td>YOUNG SINGLES/COUPLES</td>\n",
       "      <td>Mainstream</td>\n",
       "    </tr>\n",
       "    <tr>\n",
       "      <th>2</th>\n",
       "      <td>1003</td>\n",
       "      <td>YOUNG FAMILIES</td>\n",
       "      <td>Budget</td>\n",
       "    </tr>\n",
       "  </tbody>\n",
       "</table>\n",
       "</div>"
      ],
      "text/plain": [
       "   Loyalty_card_no              Lifestage   Affluence\n",
       "0             1000  YOUNG SINGLES/COUPLES     Premium\n",
       "1             1002  YOUNG SINGLES/COUPLES  Mainstream\n",
       "2             1003         YOUNG FAMILIES      Budget"
      ]
     },
     "execution_count": 13,
     "metadata": {},
     "output_type": "execute_result"
    }
   ],
   "source": [
    "col_name_pb = {'LYLTY_CARD_NBR':'Loyalty_card_no','LIFESTAGE':'Lifestage','PREMIUM_CUSTOMER':'Affluence'}\n",
    "pb = pb.rename(columns = col_name_pb)\n",
    "pb.head(3)"
   ]
  },
  {
   "cell_type": "markdown",
   "id": "982b7606",
   "metadata": {},
   "source": [
    "#### Merging the data to create master table "
   ]
  },
  {
   "cell_type": "code",
   "execution_count": 14,
   "id": "193126b7",
   "metadata": {},
   "outputs": [],
   "source": [
    "merged_data = pd.merge(td,pb, on = \"Loyalty_card_no\" , how = \"left\")"
   ]
  },
  {
   "cell_type": "code",
   "execution_count": 15,
   "id": "dda2369d",
   "metadata": {},
   "outputs": [
    {
     "data": {
      "text/html": [
       "<div>\n",
       "<style scoped>\n",
       "    .dataframe tbody tr th:only-of-type {\n",
       "        vertical-align: middle;\n",
       "    }\n",
       "\n",
       "    .dataframe tbody tr th {\n",
       "        vertical-align: top;\n",
       "    }\n",
       "\n",
       "    .dataframe thead th {\n",
       "        text-align: right;\n",
       "    }\n",
       "</style>\n",
       "<table border=\"1\" class=\"dataframe\">\n",
       "  <thead>\n",
       "    <tr style=\"text-align: right;\">\n",
       "      <th></th>\n",
       "      <th>Date</th>\n",
       "      <th>Store_no</th>\n",
       "      <th>Loyalty_card_no</th>\n",
       "      <th>Tax_id</th>\n",
       "      <th>Prod_no</th>\n",
       "      <th>Prod_fullname</th>\n",
       "      <th>Prod_qty</th>\n",
       "      <th>Total_sales</th>\n",
       "      <th>Brand</th>\n",
       "      <th>Lifestage</th>\n",
       "      <th>Affluence</th>\n",
       "    </tr>\n",
       "  </thead>\n",
       "  <tbody>\n",
       "    <tr>\n",
       "      <th>0</th>\n",
       "      <td>2018-10-19</td>\n",
       "      <td>1</td>\n",
       "      <td>1000</td>\n",
       "      <td>1</td>\n",
       "      <td>5</td>\n",
       "      <td>Natural Chip        Compny SeaSalt175g</td>\n",
       "      <td>2</td>\n",
       "      <td>6.0</td>\n",
       "      <td>Natural Chip Company</td>\n",
       "      <td>YOUNG SINGLES/COUPLES</td>\n",
       "      <td>Premium</td>\n",
       "    </tr>\n",
       "    <tr>\n",
       "      <th>1</th>\n",
       "      <td>2019-05-16</td>\n",
       "      <td>1</td>\n",
       "      <td>1307</td>\n",
       "      <td>348</td>\n",
       "      <td>66</td>\n",
       "      <td>CCs Nacho Cheese    175g</td>\n",
       "      <td>3</td>\n",
       "      <td>6.3</td>\n",
       "      <td>CCs</td>\n",
       "      <td>MIDAGE SINGLES/COUPLES</td>\n",
       "      <td>Budget</td>\n",
       "    </tr>\n",
       "    <tr>\n",
       "      <th>2</th>\n",
       "      <td>2019-05-22</td>\n",
       "      <td>1</td>\n",
       "      <td>1343</td>\n",
       "      <td>383</td>\n",
       "      <td>61</td>\n",
       "      <td>Smiths Crinkle Cut  Chips Chicken 170g</td>\n",
       "      <td>2</td>\n",
       "      <td>2.9</td>\n",
       "      <td>Smiths</td>\n",
       "      <td>MIDAGE SINGLES/COUPLES</td>\n",
       "      <td>Budget</td>\n",
       "    </tr>\n",
       "    <tr>\n",
       "      <th>3</th>\n",
       "      <td>2018-08-19</td>\n",
       "      <td>2</td>\n",
       "      <td>2373</td>\n",
       "      <td>974</td>\n",
       "      <td>69</td>\n",
       "      <td>Smiths Chip Thinly  S/Cream&amp;Onion 175g</td>\n",
       "      <td>5</td>\n",
       "      <td>15.0</td>\n",
       "      <td>Smiths</td>\n",
       "      <td>MIDAGE SINGLES/COUPLES</td>\n",
       "      <td>Budget</td>\n",
       "    </tr>\n",
       "    <tr>\n",
       "      <th>4</th>\n",
       "      <td>2018-08-20</td>\n",
       "      <td>2</td>\n",
       "      <td>2426</td>\n",
       "      <td>1038</td>\n",
       "      <td>108</td>\n",
       "      <td>Kettle Tortilla ChpsHny&amp;Jlpno Chili 150g</td>\n",
       "      <td>3</td>\n",
       "      <td>13.8</td>\n",
       "      <td>Kettle</td>\n",
       "      <td>MIDAGE SINGLES/COUPLES</td>\n",
       "      <td>Budget</td>\n",
       "    </tr>\n",
       "  </tbody>\n",
       "</table>\n",
       "</div>"
      ],
      "text/plain": [
       "        Date  Store_no  Loyalty_card_no  Tax_id  Prod_no  \\\n",
       "0 2018-10-19         1             1000       1        5   \n",
       "1 2019-05-16         1             1307     348       66   \n",
       "2 2019-05-22         1             1343     383       61   \n",
       "3 2018-08-19         2             2373     974       69   \n",
       "4 2018-08-20         2             2426    1038      108   \n",
       "\n",
       "                              Prod_fullname  Prod_qty  Total_sales  \\\n",
       "0    Natural Chip        Compny SeaSalt175g         2          6.0   \n",
       "1                  CCs Nacho Cheese    175g         3          6.3   \n",
       "2    Smiths Crinkle Cut  Chips Chicken 170g         2          2.9   \n",
       "3    Smiths Chip Thinly  S/Cream&Onion 175g         5         15.0   \n",
       "4  Kettle Tortilla ChpsHny&Jlpno Chili 150g         3         13.8   \n",
       "\n",
       "                  Brand               Lifestage Affluence  \n",
       "0  Natural Chip Company   YOUNG SINGLES/COUPLES   Premium  \n",
       "1                   CCs  MIDAGE SINGLES/COUPLES    Budget  \n",
       "2                Smiths  MIDAGE SINGLES/COUPLES    Budget  \n",
       "3                Smiths  MIDAGE SINGLES/COUPLES    Budget  \n",
       "4                Kettle  MIDAGE SINGLES/COUPLES    Budget  "
      ]
     },
     "execution_count": 15,
     "metadata": {},
     "output_type": "execute_result"
    }
   ],
   "source": [
    "merged_data.head()"
   ]
  },
  {
   "cell_type": "code",
   "execution_count": 16,
   "id": "a133d508",
   "metadata": {},
   "outputs": [
    {
     "name": "stdout",
     "output_type": "stream",
     "text": [
      "<class 'pandas.core.frame.DataFrame'>\n",
      "RangeIndex: 264836 entries, 0 to 264835\n",
      "Data columns (total 11 columns):\n",
      " #   Column           Non-Null Count   Dtype         \n",
      "---  ------           --------------   -----         \n",
      " 0   Date             264836 non-null  datetime64[ns]\n",
      " 1   Store_no         264836 non-null  int64         \n",
      " 2   Loyalty_card_no  264836 non-null  int64         \n",
      " 3   Tax_id           264836 non-null  int64         \n",
      " 4   Prod_no          264836 non-null  int64         \n",
      " 5   Prod_fullname    264836 non-null  object        \n",
      " 6   Prod_qty         264836 non-null  int64         \n",
      " 7   Total_sales      264836 non-null  float64       \n",
      " 8   Brand            264836 non-null  object        \n",
      " 9   Lifestage        264836 non-null  object        \n",
      " 10  Affluence        264836 non-null  object        \n",
      "dtypes: datetime64[ns](1), float64(1), int64(5), object(4)\n",
      "memory usage: 22.2+ MB\n"
     ]
    }
   ],
   "source": [
    "merged_data.info()"
   ]
  },
  {
   "cell_type": "code",
   "execution_count": 17,
   "id": "381e3772",
   "metadata": {},
   "outputs": [],
   "source": [
    "merged_data.to_csv(\"QVI_cleaned_data.csv\", index=False)"
   ]
  }
 ],
 "metadata": {
  "kernelspec": {
   "display_name": "Python 3 (ipykernel)",
   "language": "python",
   "name": "python3"
  },
  "language_info": {
   "codemirror_mode": {
    "name": "ipython",
    "version": 3
   },
   "file_extension": ".py",
   "mimetype": "text/x-python",
   "name": "python",
   "nbconvert_exporter": "python",
   "pygments_lexer": "ipython3",
   "version": "3.11.5"
  }
 },
 "nbformat": 4,
 "nbformat_minor": 5
}
